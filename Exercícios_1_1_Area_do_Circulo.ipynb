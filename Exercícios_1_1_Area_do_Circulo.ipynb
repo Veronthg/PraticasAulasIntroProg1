{
  "nbformat": 4,
  "nbformat_minor": 0,
  "metadata": {
    "colab": {
      "provenance": [],
      "authorship_tag": "ABX9TyOlLr7Liy/AR+56q7bAad69",
      "include_colab_link": true
    },
    "kernelspec": {
      "name": "python3",
      "display_name": "Python 3"
    },
    "language_info": {
      "name": "python"
    }
  },
  "cells": [
    {
      "cell_type": "markdown",
      "metadata": {
        "id": "view-in-github",
        "colab_type": "text"
      },
      "source": [
        "<a href=\"https://colab.research.google.com/github/Veronthg/PraticasAulasIntroProg1/blob/main/Exerc%C3%ADcios_1_1_Area_do_Circulo.ipynb\" target=\"_parent\"><img src=\"https://colab.research.google.com/assets/colab-badge.svg\" alt=\"Open In Colab\"/></a>"
      ]
    },
    {
      "cell_type": "code",
      "execution_count": null,
      "metadata": {
        "colab": {
          "base_uri": "https://localhost:8080/"
        },
        "id": "e60dCOg1yL-d",
        "outputId": "e454471a-6a2a-4edd-dce6-5344003afc1b"
      },
      "outputs": [
        {
          "output_type": "stream",
          "name": "stdout",
          "text": [
            "Informe o raio do círculo: 5\n",
            "A área do círculo é:  78.5\n"
          ]
        }
      ],
      "source": [
        "r = float(input(\"Informe o raio do círculo: \"))\n",
        "pi = float (3.14)\n",
        "a = pi * pow(r,2)\n",
        "print(\"A área do círculo é: \",a)\n"
      ]
    }
  ]
}